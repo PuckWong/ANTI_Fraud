{
  "cells": [
    {
      "metadata": {
        "_uuid": "8f2839f25d086af736a60e9eeb907d3b93b6e0e5",
        "_cell_guid": "b1076dfc-b9ad-4769-8c92-a6c4dae69d19",
        "trusted": true
      },
      "cell_type": "code",
      "source": "import numpy as np # linear algebra\nimport pandas as pd # data processing, CSV file I/O (e.g. pd.read_csv)\nimport os\nprint(os.listdir(\"../input\"))\npd.set_option('display.max_columns', 300)\npd.set_option('display.max_rows', 300)\nfrom sklearn.preprocessing import LabelEncoder\nfrom sklearn.metrics import roc_curve, auc\nfrom sklearn.model_selection import StratifiedKFold\nfrom sklearn.decomposition import PCA\nfrom keras.layers import Dense, Dropout, Embedding, Flatten, Input, merge\nfrom keras.layers.normalization import BatchNormalization\nfrom keras.layers.advanced_activations import PReLU\nimport lightgbm as lgb\nfrom scipy.stats import pearsonr\nimport gc\nimport matplotlib.pyplot as plt\n%matplotlib inline\nimport seaborn as sns\nfrom tqdm import tqdm\nimport warnings\nwarnings.filterwarnings('ignore')",
      "execution_count": 2,
      "outputs": [
        {
          "output_type": "stream",
          "text": "['anti-preprocess', 'atec-anti-fraud']\n",
          "name": "stdout"
        }
      ]
    },
    {
      "metadata": {
        "_uuid": "7683e1e43692641b8728ba00af47e2f27ba468e6",
        "collapsed": true,
        "_cell_guid": "c2704444-9c97-4285-b616-98a7c41d1b74",
        "trusted": true
      },
      "cell_type": "code",
      "source": "feature_columns = ['f%s' % i for i in range(1, 298)]\ndtype = {}\nfor i in feature_columns:\n    if i not in ['f5', 'f82', 'f83', 'f84', 'f85', 'f86']:\n        dtype[i] = 'int16'\ndtype.update({'f5':'int32', 'f82':'float32', 'f83':'float32', \n              'f84':'float32', 'f85':'float32', 'f86':'float32', 'id':'str', 'date':'int16'})",
      "execution_count": 3,
      "outputs": []
    },
    {
      "metadata": {
        "trusted": true,
        "collapsed": true,
        "_uuid": "592e056ae5f4642e44e6abf0471d95a60cb829f2"
      },
      "cell_type": "code",
      "source": "numerical_feature = ['f5', 'f7', 'f18', 'f25', 'f26', 'f28', 'f29', 'f30', 'f32', 'f50', 'f75', 'f82', 'f83', 'f84', 'f85', 'f86', \n                    'f90', 'f95', 'f101', 'f106', 'f112', 'f118', 'f119', 'f135', 'f136', 'f142', 'f143', 'f148', 'f149',\n                    'f150', 'f179', 'f210', 'f238', 'f243', 'f244', 'f258', 'f287', 'f294', 'f295']\ncat_feature = list(set(feature_columns).difference(set(numerical_feature)))\n#feature_idx = [i for i in range(len(cat_feature))]",
      "execution_count": 4,
      "outputs": []
    },
    {
      "metadata": {
        "trusted": true,
        "collapsed": true,
        "_uuid": "ccab3f5dfbf3e5069f9ddfaf04f48a9511e40270"
      },
      "cell_type": "code",
      "source": "train = pd.read_csv('../input/atec-anti-fraud/atec_anti_fraud_train.csv')\ntrain['label'] = train['label'].replace([-1], [1])\ntest = pd.read_csv('../input/atec-anti-fraud/atec_anti_fraud_test_a.csv')\ntrain.fillna(0, inplace=True)\ntest.fillna(0, inplace=True)",
      "execution_count": null,
      "outputs": []
    },
    {
      "metadata": {
        "trusted": true,
        "collapsed": true,
        "_uuid": "38fd3ef940c7e8b6251fb2ed1060c4e4bea3b777"
      },
      "cell_type": "code",
      "source": "for col in feature_columns:\n    if col in ['f82', 'f83', 'f84', 'f85', 'f86']:continue\n    train[col] = train[col].apply(int)\n    test[col] = test[col].apply(int)",
      "execution_count": null,
      "outputs": []
    },
    {
      "metadata": {
        "trusted": true,
        "collapsed": true,
        "_uuid": "29e05d35428e42714bd6a500af83b0c44d8be4bb"
      },
      "cell_type": "code",
      "source": "X_cat = train[cat_feature]\nX = train[numerical_feature]\nX_test_cat = test[cat_feature]\nX_test = test[numerical_feature]\nY = train['label']\nsubmission = test[['id']]",
      "execution_count": null,
      "outputs": []
    },
    {
      "metadata": {
        "trusted": true,
        "collapsed": true,
        "_uuid": "7e23e37ad0e81d90c62f3db776a47cc26427b220"
      },
      "cell_type": "code",
      "source": "del train, test\ngc.collect()",
      "execution_count": null,
      "outputs": []
    },
    {
      "metadata": {
        "trusted": true,
        "collapsed": true,
        "_uuid": "38529ce971bcbbbbdeeb6e5dded4cc028f3d434f"
      },
      "cell_type": "code",
      "source": "x_test_cat = []\nfor i in range(X_test_cat.shape[1]):\n    x_test_cat.append(X_test_cat[:, i].values.reshape(-1, 1))\nx_test_cat.append(X_test.values)",
      "execution_count": null,
      "outputs": []
    },
    {
      "metadata": {
        "trusted": true,
        "collapsed": true,
        "_uuid": "1713038fb728e90cb407824df56359b7cf2f24f7"
      },
      "cell_type": "code",
      "source": "max_cat_values = {}\nfor e, col in enumerate(cat_feature):\n    #int(e, col, int(max(train[col].max(), test[col].max())))\n    max_cat_values[col] = int(max(train[col].max(), test[col].max()))+1",
      "execution_count": 6,
      "outputs": []
    },
    {
      "metadata": {
        "trusted": true,
        "collapsed": true,
        "_uuid": "32f804a863fe2b1df9099e2e9cd49f69990056f0"
      },
      "cell_type": "code",
      "source": "def scorer(y, pred):\n    fpr, tpr, thresholds = roc_curve(y, pred, pos_label=1)\n    score = 0.4 * tpr[np.where(fpr>=0.001)[0][0]] + \\\n            0.3 * tpr[np.where(fpr>=0.005)[0][0]] + \\\n            0.3 * tpr[np.where(fpr>=0.01)[0][0]]\n    print('-----------------------------result------------------------')\n    print('fpr_0.001: {0} | fpr_0.005: {1} | fpr_0.01: {2}'.format(tpr[np.where(fpr>=0.001)[0][0]], \n                                   tpr[np.where(fpr>=0.005)[0][0]], \n                                   tpr[np.where(fpr>=0.01)[0][0]]))\n    print('score : {}'.format(score))\n    return score",
      "execution_count": null,
      "outputs": []
    },
    {
      "metadata": {
        "_uuid": "333485e0583fd603e4ec10c73c25c1c2eb24db89",
        "trusted": true,
        "collapsed": true
      },
      "cell_type": "code",
      "source": "def nn_model():\n    inputs = []\n    flatten_layers = []\n    for e, col in enumerate(cat_feature):\n        input_c = Input(shape=(1, ), dtype='int32')\n        num_c = max_cat_values[e]\n        embed_c = Embedding(\n            num_c,\n            6,\n            input_length=1\n        )(input_c)\n        embed_c = Dropout(0.25)(embed_c)\n        flatten_c = Flatten()(embed_c)\n\n        inputs.append(input_c)\n        flatten_layers.append(flatten_c)\n\n    input_num = Input(shape=(X.shape[1],), dtype='float32')\n    flatten_layers.append(input_num)\n    inputs.append(input_num)\n\n    flatten = merge(flatten_layers, mode='concat')\n\n    fc1 = Dense(512, init='he_normal')(flatten)\n    fc1 = PReLU()(fc1)\n    fc1 = BatchNormalization()(fc1)\n    fc1 = Dropout(0.75)(fc1)\n\n    fc1 = Dense(64, init='he_normal')(fc1)\n    fc1 = PReLU()(fc1)\n    fc1 = BatchNormalization()(fc1)\n    fc1 = Dropout(0.5)(fc1)\n\n    outputs = Dense(1, init='he_normal', activation='sigmoid')(fc1)\n\n    model = Model(input = inputs, output = outputs)\n    model.compile(loss='binary_crossentropy', optimizer='adam')\n    return (model)\n\n\nfor (train_index, test_index) in kfold.split(X, Y):\n    xtr = X[train_index].values\n    ytr = Y[train_index].values\n    xte = X[test_index].values\n    yte = Y[test_index].values\n\n    xtr_cat = X_cat[train_index].values\n    xte_cat = X_cat[test_index].values\n\n    # get xtr xte cat\n    xtr_cat_list, xte_cat_list = [], []\n    for i in range(xtr_cat.shape[1]):\n        xtr_cat_list.append(xtr_cat[:, i].values.reshape(-1, 1))\n        xte_cat_list.append(xte_cat[:, i].values.reshape(-1, 1))\n\n    xtr_cat_list.append(xtr)\n    xte_cat_list.append(xte)\n\n    model = nn_model()\n    def get_rank(x):\n        return pd.Series(x).rank(pct=True).values\n    model.fit(xtr_cat_list, ytr, epochs=20, batch_size=512, verbose=2, validation_data=[xte_cat_list, yte])\n    cv_train[test_index] += get_rank(model.predict(x=xte_cat_list, batch_size=512, verbose=0)[:, 0])\n    print(scorer(Y[test_index], cv_train[test_index]))\n    cv_pred += get_rank(model.predict(x=x_test_cat, batch_size=512, verbose=0)[:, 0])",
      "execution_count": 7,
      "outputs": []
    },
    {
      "metadata": {
        "_uuid": "2a3f277a07718b80c451210dcf79593d54c29079",
        "_cell_guid": "1831b9ad-6c9d-4405-8c81-dbbab30a30fd",
        "trusted": true,
        "collapsed": true
      },
      "cell_type": "code",
      "source": "submission['score'] = cv_pred\nsubmission.to_csv('nn_201806061145.csv', index=False)",
      "execution_count": null,
      "outputs": []
    }
  ],
  "metadata": {
    "kernelspec": {
      "display_name": "Python 3",
      "language": "python",
      "name": "python3"
    },
    "language_info": {
      "name": "python",
      "version": "3.6.5",
      "mimetype": "text/x-python",
      "codemirror_mode": {
        "name": "ipython",
        "version": 3
      },
      "pygments_lexer": "ipython3",
      "nbconvert_exporter": "python",
      "file_extension": ".py"
    }
  },
  "nbformat": 4,
  "nbformat_minor": 1
}